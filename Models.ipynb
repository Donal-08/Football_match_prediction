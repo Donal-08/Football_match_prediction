{
 "cells": [
  {
   "cell_type": "code",
   "execution_count": 1,
   "id": "9a94ce2b",
   "metadata": {},
   "outputs": [],
   "source": [
    "import pandas as pd"
   ]
  },
  {
   "cell_type": "code",
   "execution_count": 2,
   "id": "08cb8f80",
   "metadata": {},
   "outputs": [],
   "source": [
    "all_matches = pd.read_csv(\"all_matches.csv\",index_col=0)"
   ]
  },
  {
   "cell_type": "code",
   "execution_count": 3,
   "id": "795e4838",
   "metadata": {},
   "outputs": [
    {
     "data": {
      "text/html": [
       "<div>\n",
       "<style scoped>\n",
       "    .dataframe tbody tr th:only-of-type {\n",
       "        vertical-align: middle;\n",
       "    }\n",
       "\n",
       "    .dataframe tbody tr th {\n",
       "        vertical-align: top;\n",
       "    }\n",
       "\n",
       "    .dataframe thead th {\n",
       "        text-align: right;\n",
       "    }\n",
       "</style>\n",
       "<table border=\"1\" class=\"dataframe\">\n",
       "  <thead>\n",
       "    <tr style=\"text-align: right;\">\n",
       "      <th></th>\n",
       "      <th>date</th>\n",
       "      <th>time</th>\n",
       "      <th>comp</th>\n",
       "      <th>round</th>\n",
       "      <th>day</th>\n",
       "      <th>venue</th>\n",
       "      <th>result</th>\n",
       "      <th>gf</th>\n",
       "      <th>ga</th>\n",
       "      <th>opponent</th>\n",
       "      <th>...</th>\n",
       "      <th>sot</th>\n",
       "      <th>sot%</th>\n",
       "      <th>g/sh</th>\n",
       "      <th>g/sot</th>\n",
       "      <th>dist</th>\n",
       "      <th>fk</th>\n",
       "      <th>pk</th>\n",
       "      <th>pkatt</th>\n",
       "      <th>season</th>\n",
       "      <th>team name</th>\n",
       "    </tr>\n",
       "  </thead>\n",
       "  <tbody>\n",
       "    <tr>\n",
       "      <th>0</th>\n",
       "      <td>2022-08-05</td>\n",
       "      <td>20:00</td>\n",
       "      <td>Premier League</td>\n",
       "      <td>Matchweek 1</td>\n",
       "      <td>Fri</td>\n",
       "      <td>Away</td>\n",
       "      <td>W</td>\n",
       "      <td>2.0</td>\n",
       "      <td>0.0</td>\n",
       "      <td>Crystal Palace</td>\n",
       "      <td>...</td>\n",
       "      <td>2.0</td>\n",
       "      <td>20.0</td>\n",
       "      <td>0.10</td>\n",
       "      <td>0.50</td>\n",
       "      <td>14.6</td>\n",
       "      <td>1.0</td>\n",
       "      <td>0.0</td>\n",
       "      <td>0.0</td>\n",
       "      <td>2022</td>\n",
       "      <td>Arsenal</td>\n",
       "    </tr>\n",
       "    <tr>\n",
       "      <th>1</th>\n",
       "      <td>2022-08-13</td>\n",
       "      <td>15:00</td>\n",
       "      <td>Premier League</td>\n",
       "      <td>Matchweek 2</td>\n",
       "      <td>Sat</td>\n",
       "      <td>Home</td>\n",
       "      <td>W</td>\n",
       "      <td>4.0</td>\n",
       "      <td>2.0</td>\n",
       "      <td>Leicester City</td>\n",
       "      <td>...</td>\n",
       "      <td>7.0</td>\n",
       "      <td>36.8</td>\n",
       "      <td>0.21</td>\n",
       "      <td>0.57</td>\n",
       "      <td>13.0</td>\n",
       "      <td>0.0</td>\n",
       "      <td>0.0</td>\n",
       "      <td>0.0</td>\n",
       "      <td>2022</td>\n",
       "      <td>Arsenal</td>\n",
       "    </tr>\n",
       "    <tr>\n",
       "      <th>2</th>\n",
       "      <td>2022-08-20</td>\n",
       "      <td>17:30</td>\n",
       "      <td>Premier League</td>\n",
       "      <td>Matchweek 3</td>\n",
       "      <td>Sat</td>\n",
       "      <td>Away</td>\n",
       "      <td>W</td>\n",
       "      <td>3.0</td>\n",
       "      <td>0.0</td>\n",
       "      <td>Bournemouth</td>\n",
       "      <td>...</td>\n",
       "      <td>6.0</td>\n",
       "      <td>42.9</td>\n",
       "      <td>0.21</td>\n",
       "      <td>0.50</td>\n",
       "      <td>14.8</td>\n",
       "      <td>0.0</td>\n",
       "      <td>0.0</td>\n",
       "      <td>0.0</td>\n",
       "      <td>2022</td>\n",
       "      <td>Arsenal</td>\n",
       "    </tr>\n",
       "    <tr>\n",
       "      <th>3</th>\n",
       "      <td>2022-08-27</td>\n",
       "      <td>17:30</td>\n",
       "      <td>Premier League</td>\n",
       "      <td>Matchweek 4</td>\n",
       "      <td>Sat</td>\n",
       "      <td>Home</td>\n",
       "      <td>W</td>\n",
       "      <td>2.0</td>\n",
       "      <td>1.0</td>\n",
       "      <td>Fulham</td>\n",
       "      <td>...</td>\n",
       "      <td>8.0</td>\n",
       "      <td>36.4</td>\n",
       "      <td>0.09</td>\n",
       "      <td>0.25</td>\n",
       "      <td>15.5</td>\n",
       "      <td>1.0</td>\n",
       "      <td>0.0</td>\n",
       "      <td>0.0</td>\n",
       "      <td>2022</td>\n",
       "      <td>Arsenal</td>\n",
       "    </tr>\n",
       "    <tr>\n",
       "      <th>4</th>\n",
       "      <td>2022-08-31</td>\n",
       "      <td>19:30</td>\n",
       "      <td>Premier League</td>\n",
       "      <td>Matchweek 5</td>\n",
       "      <td>Wed</td>\n",
       "      <td>Home</td>\n",
       "      <td>W</td>\n",
       "      <td>2.0</td>\n",
       "      <td>1.0</td>\n",
       "      <td>Aston Villa</td>\n",
       "      <td>...</td>\n",
       "      <td>8.0</td>\n",
       "      <td>36.4</td>\n",
       "      <td>0.09</td>\n",
       "      <td>0.25</td>\n",
       "      <td>16.3</td>\n",
       "      <td>1.0</td>\n",
       "      <td>0.0</td>\n",
       "      <td>0.0</td>\n",
       "      <td>2022</td>\n",
       "      <td>Arsenal</td>\n",
       "    </tr>\n",
       "  </tbody>\n",
       "</table>\n",
       "<p>5 rows × 30 columns</p>\n",
       "</div>"
      ],
      "text/plain": [
       "         date   time            comp        round  day venue result   gf   ga  \\\n",
       "0  2022-08-05  20:00  Premier League  Matchweek 1  Fri  Away      W  2.0  0.0   \n",
       "1  2022-08-13  15:00  Premier League  Matchweek 2  Sat  Home      W  4.0  2.0   \n",
       "2  2022-08-20  17:30  Premier League  Matchweek 3  Sat  Away      W  3.0  0.0   \n",
       "3  2022-08-27  17:30  Premier League  Matchweek 4  Sat  Home      W  2.0  1.0   \n",
       "4  2022-08-31  19:30  Premier League  Matchweek 5  Wed  Home      W  2.0  1.0   \n",
       "\n",
       "         opponent  ...  sot  sot%  g/sh  g/sot  dist   fk   pk pkatt  season  \\\n",
       "0  Crystal Palace  ...  2.0  20.0  0.10   0.50  14.6  1.0  0.0   0.0    2022   \n",
       "1  Leicester City  ...  7.0  36.8  0.21   0.57  13.0  0.0  0.0   0.0    2022   \n",
       "2     Bournemouth  ...  6.0  42.9  0.21   0.50  14.8  0.0  0.0   0.0    2022   \n",
       "3          Fulham  ...  8.0  36.4  0.09   0.25  15.5  1.0  0.0   0.0    2022   \n",
       "4     Aston Villa  ...  8.0  36.4  0.09   0.25  16.3  1.0  0.0   0.0    2022   \n",
       "\n",
       "   team name  \n",
       "0    Arsenal  \n",
       "1    Arsenal  \n",
       "2    Arsenal  \n",
       "3    Arsenal  \n",
       "4    Arsenal  \n",
       "\n",
       "[5 rows x 30 columns]"
      ]
     },
     "execution_count": 3,
     "metadata": {},
     "output_type": "execute_result"
    }
   ],
   "source": [
    "all_matches.head(5)"
   ]
  },
  {
   "cell_type": "code",
   "execution_count": 6,
   "id": "9e288ed5",
   "metadata": {},
   "outputs": [
    {
     "data": {
      "text/plain": [
       "(2112, 30)"
      ]
     },
     "execution_count": 6,
     "metadata": {},
     "output_type": "execute_result"
    }
   ],
   "source": [
    "all_matches.shape"
   ]
  },
  {
   "cell_type": "markdown",
   "id": "6126be83",
   "metadata": {},
   "source": [
    "### There are 38 matches each season, 20 teams playing and since we have datas for 3 seasons"
   ]
  },
  {
   "cell_type": "code",
   "execution_count": 9,
   "id": "8e3d46b9",
   "metadata": {},
   "outputs": [
    {
     "data": {
      "text/plain": [
       "2280"
      ]
     },
     "execution_count": 9,
     "metadata": {},
     "output_type": "execute_result"
    }
   ],
   "source": [
    "38*20*3"
   ]
  },
  {
   "cell_type": "code",
   "execution_count": 13,
   "id": "b4939f44",
   "metadata": {},
   "outputs": [
    {
     "data": {
      "text/plain": [
       "Arsenal                     106\n",
       "Chelsea                     106\n",
       "Southampton                 106\n",
       "Leicester City              106\n",
       "Everton                     106\n",
       "Leeds United                106\n",
       "Crystal Palace              106\n",
       "Wolverhampton Wanderers     106\n",
       "Tottenham Hotspur           106\n",
       "Aston Villa                 106\n",
       "Manchester United           105\n",
       "Liverpool                   105\n",
       "Manchester City             105\n",
       "West Ham United             105\n",
       "Newcastle United            105\n",
       "Brighton and Hove Albion    104\n",
       "Burnley                      76\n",
       "Brentford                    68\n",
       "Fulham                       67\n",
       "Watford                      38\n",
       "Norwich City                 38\n",
       "West Bromwich Albion         38\n",
       "Sheffield United             38\n",
       "Nottingham Forest            30\n",
       "Bournemouth                  30\n",
       "Name: team name, dtype: int64"
      ]
     },
     "execution_count": 13,
     "metadata": {},
     "output_type": "execute_result"
    }
   ],
   "source": [
    "all_matches[\"team name\"].value_counts()"
   ]
  },
  {
   "cell_type": "markdown",
   "id": "2933686a",
   "metadata": {},
   "source": [
    "#### There are less number of matches because \n",
    "- the season 2022-23  was ongoing while we scraped the data\n",
    "- 3 teams are relegated each season and 3 teams are promoted \n",
    "- So we expect (~ 9 teams) to be having around 38 matches less each"
   ]
  },
  {
   "cell_type": "markdown",
   "id": "05b36e9a",
   "metadata": {},
   "source": [
    "## Cleaning our data for Machine Learning"
   ]
  },
  {
   "cell_type": "code",
   "execution_count": 14,
   "id": "b8fd246a",
   "metadata": {},
   "outputs": [
    {
     "data": {
      "text/plain": [
       "date             object\n",
       "time             object\n",
       "comp             object\n",
       "round            object\n",
       "day              object\n",
       "venue            object\n",
       "result           object\n",
       "gf              float64\n",
       "ga              float64\n",
       "opponent         object\n",
       "xg              float64\n",
       "xga             float64\n",
       "poss            float64\n",
       "attendance      float64\n",
       "captain          object\n",
       "formation        object\n",
       "referee          object\n",
       "match report     object\n",
       "notes           float64\n",
       "sh              float64\n",
       "sot             float64\n",
       "sot%            float64\n",
       "g/sh            float64\n",
       "g/sot           float64\n",
       "dist            float64\n",
       "fk              float64\n",
       "pk              float64\n",
       "pkatt           float64\n",
       "season            int64\n",
       "team name        object\n",
       "dtype: object"
      ]
     },
     "execution_count": 14,
     "metadata": {},
     "output_type": "execute_result"
    }
   ],
   "source": [
    "all_matches.dtypes"
   ]
  },
  {
   "cell_type": "markdown",
   "id": "f9d3ad72",
   "metadata": {},
   "source": [
    "- Machine Learning algorithms can't work with data that is an object\n",
    "- Can only use columns that are numeric as predictors \n",
    "- Convert relevant feature columns to numeric datatype"
   ]
  },
  {
   "cell_type": "code",
   "execution_count": 16,
   "id": "bac1db5d",
   "metadata": {},
   "outputs": [
    {
     "data": {
      "text/plain": [
       "date            datetime64[ns]\n",
       "time                    object\n",
       "comp                    object\n",
       "round                   object\n",
       "day                     object\n",
       "venue                   object\n",
       "result                  object\n",
       "gf                     float64\n",
       "ga                     float64\n",
       "opponent                object\n",
       "xg                     float64\n",
       "xga                    float64\n",
       "poss                   float64\n",
       "attendance             float64\n",
       "captain                 object\n",
       "formation               object\n",
       "referee                 object\n",
       "match report            object\n",
       "notes                  float64\n",
       "sh                     float64\n",
       "sot                    float64\n",
       "sot%                   float64\n",
       "g/sh                   float64\n",
       "g/sot                  float64\n",
       "dist                   float64\n",
       "fk                     float64\n",
       "pk                     float64\n",
       "pkatt                  float64\n",
       "season                   int64\n",
       "team name               object\n",
       "dtype: object"
      ]
     },
     "execution_count": 16,
     "metadata": {},
     "output_type": "execute_result"
    }
   ],
   "source": [
    "# Convert date object to datetime\n",
    "all_matches[\"date\"] = pd.to_datetime(all_matches[\"date\"])\n",
    "all_matches.dtypes"
   ]
  },
  {
   "cell_type": "markdown",
   "id": "d3d10eb5",
   "metadata": {},
   "source": [
    "## Creating relevant features"
   ]
  },
  {
   "cell_type": "code",
   "execution_count": 18,
   "id": "49e3c9fc",
   "metadata": {},
   "outputs": [
    {
     "data": {
      "text/plain": [
       "2"
      ]
     },
     "execution_count": 18,
     "metadata": {},
     "output_type": "execute_result"
    }
   ],
   "source": [
    "n_venue_types = all_matches['venue'].nunique()\n",
    "n_venue_types            # home/away only"
   ]
  },
  {
   "cell_type": "code",
   "execution_count": 21,
   "id": "fc069f6d",
   "metadata": {},
   "outputs": [],
   "source": [
    "all_matches['venue_id'] = all_matches ['venue'].replace({'Home':0,'Away':1})\n",
    "all_matches['opponent_id'] = all_matches[\"opponent\"].astype(\"category\").cat.codes"
   ]
  },
  {
   "cell_type": "code",
   "execution_count": 26,
   "id": "36f62f24",
   "metadata": {},
   "outputs": [],
   "source": [
    "all_matches[\"hour\"] = all_matches[\"time\"].str.replace(\":.+\",\"\", regex=True).astype(\"int\")"
   ]
  },
  {
   "cell_type": "code",
   "execution_count": 27,
   "id": "a77c8023",
   "metadata": {},
   "outputs": [],
   "source": [
    "all_matches[\"day_id\"] = all_matches[\"date\"].dt.dayofweek"
   ]
  },
  {
   "cell_type": "code",
   "execution_count": 28,
   "id": "86977d85",
   "metadata": {},
   "outputs": [
    {
     "data": {
      "text/html": [
       "<div>\n",
       "<style scoped>\n",
       "    .dataframe tbody tr th:only-of-type {\n",
       "        vertical-align: middle;\n",
       "    }\n",
       "\n",
       "    .dataframe tbody tr th {\n",
       "        vertical-align: top;\n",
       "    }\n",
       "\n",
       "    .dataframe thead th {\n",
       "        text-align: right;\n",
       "    }\n",
       "</style>\n",
       "<table border=\"1\" class=\"dataframe\">\n",
       "  <thead>\n",
       "    <tr style=\"text-align: right;\">\n",
       "      <th></th>\n",
       "      <th>date</th>\n",
       "      <th>time</th>\n",
       "      <th>comp</th>\n",
       "      <th>round</th>\n",
       "      <th>day</th>\n",
       "      <th>venue</th>\n",
       "      <th>result</th>\n",
       "      <th>gf</th>\n",
       "      <th>ga</th>\n",
       "      <th>opponent</th>\n",
       "      <th>...</th>\n",
       "      <th>dist</th>\n",
       "      <th>fk</th>\n",
       "      <th>pk</th>\n",
       "      <th>pkatt</th>\n",
       "      <th>season</th>\n",
       "      <th>team name</th>\n",
       "      <th>venue_id</th>\n",
       "      <th>opponent_id</th>\n",
       "      <th>hour</th>\n",
       "      <th>day_id</th>\n",
       "    </tr>\n",
       "  </thead>\n",
       "  <tbody>\n",
       "    <tr>\n",
       "      <th>0</th>\n",
       "      <td>2022-08-05</td>\n",
       "      <td>20:00</td>\n",
       "      <td>Premier League</td>\n",
       "      <td>Matchweek 1</td>\n",
       "      <td>Fri</td>\n",
       "      <td>Away</td>\n",
       "      <td>W</td>\n",
       "      <td>2.0</td>\n",
       "      <td>0.0</td>\n",
       "      <td>Crystal Palace</td>\n",
       "      <td>...</td>\n",
       "      <td>14.6</td>\n",
       "      <td>1.0</td>\n",
       "      <td>0.0</td>\n",
       "      <td>0.0</td>\n",
       "      <td>2022</td>\n",
       "      <td>Arsenal</td>\n",
       "      <td>1</td>\n",
       "      <td>7</td>\n",
       "      <td>20</td>\n",
       "      <td>4</td>\n",
       "    </tr>\n",
       "    <tr>\n",
       "      <th>1</th>\n",
       "      <td>2022-08-13</td>\n",
       "      <td>15:00</td>\n",
       "      <td>Premier League</td>\n",
       "      <td>Matchweek 2</td>\n",
       "      <td>Sat</td>\n",
       "      <td>Home</td>\n",
       "      <td>W</td>\n",
       "      <td>4.0</td>\n",
       "      <td>2.0</td>\n",
       "      <td>Leicester City</td>\n",
       "      <td>...</td>\n",
       "      <td>13.0</td>\n",
       "      <td>0.0</td>\n",
       "      <td>0.0</td>\n",
       "      <td>0.0</td>\n",
       "      <td>2022</td>\n",
       "      <td>Arsenal</td>\n",
       "      <td>0</td>\n",
       "      <td>11</td>\n",
       "      <td>15</td>\n",
       "      <td>5</td>\n",
       "    </tr>\n",
       "    <tr>\n",
       "      <th>2</th>\n",
       "      <td>2022-08-20</td>\n",
       "      <td>17:30</td>\n",
       "      <td>Premier League</td>\n",
       "      <td>Matchweek 3</td>\n",
       "      <td>Sat</td>\n",
       "      <td>Away</td>\n",
       "      <td>W</td>\n",
       "      <td>3.0</td>\n",
       "      <td>0.0</td>\n",
       "      <td>Bournemouth</td>\n",
       "      <td>...</td>\n",
       "      <td>14.8</td>\n",
       "      <td>0.0</td>\n",
       "      <td>0.0</td>\n",
       "      <td>0.0</td>\n",
       "      <td>2022</td>\n",
       "      <td>Arsenal</td>\n",
       "      <td>1</td>\n",
       "      <td>2</td>\n",
       "      <td>17</td>\n",
       "      <td>5</td>\n",
       "    </tr>\n",
       "    <tr>\n",
       "      <th>3</th>\n",
       "      <td>2022-08-27</td>\n",
       "      <td>17:30</td>\n",
       "      <td>Premier League</td>\n",
       "      <td>Matchweek 4</td>\n",
       "      <td>Sat</td>\n",
       "      <td>Home</td>\n",
       "      <td>W</td>\n",
       "      <td>2.0</td>\n",
       "      <td>1.0</td>\n",
       "      <td>Fulham</td>\n",
       "      <td>...</td>\n",
       "      <td>15.5</td>\n",
       "      <td>1.0</td>\n",
       "      <td>0.0</td>\n",
       "      <td>0.0</td>\n",
       "      <td>2022</td>\n",
       "      <td>Arsenal</td>\n",
       "      <td>0</td>\n",
       "      <td>9</td>\n",
       "      <td>17</td>\n",
       "      <td>5</td>\n",
       "    </tr>\n",
       "    <tr>\n",
       "      <th>4</th>\n",
       "      <td>2022-08-31</td>\n",
       "      <td>19:30</td>\n",
       "      <td>Premier League</td>\n",
       "      <td>Matchweek 5</td>\n",
       "      <td>Wed</td>\n",
       "      <td>Home</td>\n",
       "      <td>W</td>\n",
       "      <td>2.0</td>\n",
       "      <td>1.0</td>\n",
       "      <td>Aston Villa</td>\n",
       "      <td>...</td>\n",
       "      <td>16.3</td>\n",
       "      <td>1.0</td>\n",
       "      <td>0.0</td>\n",
       "      <td>0.0</td>\n",
       "      <td>2022</td>\n",
       "      <td>Arsenal</td>\n",
       "      <td>0</td>\n",
       "      <td>1</td>\n",
       "      <td>19</td>\n",
       "      <td>2</td>\n",
       "    </tr>\n",
       "  </tbody>\n",
       "</table>\n",
       "<p>5 rows × 34 columns</p>\n",
       "</div>"
      ],
      "text/plain": [
       "        date   time            comp        round  day venue result   gf   ga  \\\n",
       "0 2022-08-05  20:00  Premier League  Matchweek 1  Fri  Away      W  2.0  0.0   \n",
       "1 2022-08-13  15:00  Premier League  Matchweek 2  Sat  Home      W  4.0  2.0   \n",
       "2 2022-08-20  17:30  Premier League  Matchweek 3  Sat  Away      W  3.0  0.0   \n",
       "3 2022-08-27  17:30  Premier League  Matchweek 4  Sat  Home      W  2.0  1.0   \n",
       "4 2022-08-31  19:30  Premier League  Matchweek 5  Wed  Home      W  2.0  1.0   \n",
       "\n",
       "         opponent  ...  dist   fk   pk  pkatt season team name venue_id  \\\n",
       "0  Crystal Palace  ...  14.6  1.0  0.0    0.0   2022   Arsenal        1   \n",
       "1  Leicester City  ...  13.0  0.0  0.0    0.0   2022   Arsenal        0   \n",
       "2     Bournemouth  ...  14.8  0.0  0.0    0.0   2022   Arsenal        1   \n",
       "3          Fulham  ...  15.5  1.0  0.0    0.0   2022   Arsenal        0   \n",
       "4     Aston Villa  ...  16.3  1.0  0.0    0.0   2022   Arsenal        0   \n",
       "\n",
       "  opponent_id  hour  day_id  \n",
       "0           7    20       4  \n",
       "1          11    15       5  \n",
       "2           2    17       5  \n",
       "3           9    17       5  \n",
       "4           1    19       2  \n",
       "\n",
       "[5 rows x 34 columns]"
      ]
     },
     "execution_count": 28,
     "metadata": {},
     "output_type": "execute_result"
    }
   ],
   "source": [
    "all_matches.head()"
   ]
  },
  {
   "cell_type": "code",
   "execution_count": 30,
   "id": "33c972db",
   "metadata": {},
   "outputs": [],
   "source": [
    "# Set up a target to actually predict\n",
    "all_matches[\"target\"] = (all_matches[\"result\"] == \"W\").astype(\"int\")"
   ]
  },
  {
   "cell_type": "code",
   "execution_count": null,
   "id": "5d650bce",
   "metadata": {},
   "outputs": [],
   "source": []
  },
  {
   "cell_type": "code",
   "execution_count": 31,
   "id": "e3ac9b5c",
   "metadata": {},
   "outputs": [],
   "source": [
    "# Non-linearity can be captured using Random forest classifier\n",
    "from sklearn.ensemble import RandomForestClassifier"
   ]
  },
  {
   "cell_type": "code",
   "execution_count": null,
   "id": "b8b7ed4b",
   "metadata": {},
   "outputs": [],
   "source": []
  }
 ],
 "metadata": {
  "kernelspec": {
   "display_name": "Python 3 (ipykernel)",
   "language": "python",
   "name": "python3"
  },
  "language_info": {
   "codemirror_mode": {
    "name": "ipython",
    "version": 3
   },
   "file_extension": ".py",
   "mimetype": "text/x-python",
   "name": "python",
   "nbconvert_exporter": "python",
   "pygments_lexer": "ipython3",
   "version": "3.10.4"
  }
 },
 "nbformat": 4,
 "nbformat_minor": 5
}
